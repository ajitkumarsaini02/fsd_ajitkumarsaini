{
  "nbformat": 4,
  "nbformat_minor": 0,
  "metadata": {
    "colab": {
      "provenance": [],
      "authorship_tag": "ABX9TyPhbihHiLn7HJ0GE73EX9jB",
      "include_colab_link": true
    },
    "kernelspec": {
      "name": "python3",
      "display_name": "Python 3"
    },
    "language_info": {
      "name": "python"
    }
  },
  "cells": [
    {
      "cell_type": "markdown",
      "metadata": {
        "id": "view-in-github",
        "colab_type": "text"
      },
      "source": [
        "<a href=\"https://colab.research.google.com/github/ajitkumarsaini02/fsd_ajitkumarsaini/blob/main/lect1.ipynb\" target=\"_parent\"><img src=\"https://colab.research.google.com/assets/colab-badge.svg\" alt=\"Open In Colab\"/></a>"
      ]
    },
    {
      "cell_type": "markdown",
      "source": [
        "🔑 Important Points:\n",
        "\n",
        "Typecasting → Converting one data type into another.\n",
        "\n",
        "Here, we converted a (int) → str(a) (string).\n",
        "\n",
        "Explicit Typecasting → Done manually by the programmer using functions like:\n",
        "\n",
        "int() → converts to integer\n",
        "\n",
        "float() → converts to float\n",
        "\n",
        "str() → converts to string\n",
        "\n",
        "list(), tuple(), etc.\n",
        "\n",
        "✅ In your code, str(a) is explicit typecasting."
      ],
      "metadata": {
        "id": "SGYdMbHB6O_n"
      }
    },
    {
      "cell_type": "code",
      "execution_count": null,
      "metadata": {
        "id": "n8FXxsIaUS7e",
        "colab": {
          "base_uri": "https://localhost:8080/"
        },
        "outputId": "de99a8b3-f842-459b-e46e-dcd5b1d0de6d"
      },
      "outputs": [
        {
          "output_type": "stream",
          "name": "stdout",
          "text": [
            "123abes\n"
          ]
        }
      ],
      "source": [
        "a=123\n",
        "b='abes'\n",
        "c= str(a) + b\n",
        "print(c)\n",
        "#typecast\n",
        "#explicit typecast"
      ]
    },
    {
      "cell_type": "markdown",
      "source": [
        "👉Automatic typecasting (also called type conversion).\n",
        "\n",
        "* Python automatically converts int → float during arithmetic if needed.\n",
        "\n",
        "* It chooses the higher data type to avoid data loss.\n",
        "\n",
        "* So:\n",
        "\n",
        "   * int + int → int\n",
        "\n",
        "   * float + float → float\n",
        "\n",
        "   * int + float → float ✅ (automatic typecast)"
      ],
      "metadata": {
        "id": "8QDSs4YLv6rq"
      }
    },
    {
      "cell_type": "markdown",
      "source": [
        "👉 Typecasting types in short:\n",
        "\n",
        "1. Explicit typecasting → You convert manually using int(), float(), str() etc."
      ],
      "metadata": {
        "id": "VoLnZbhFwZZF"
      }
    },
    {
      "cell_type": "code",
      "source": [
        "x = int(\"10\")  # string → int\n"
      ],
      "metadata": {
        "id": "FHHNMqWLwRt5"
      },
      "execution_count": null,
      "outputs": []
    },
    {
      "cell_type": "markdown",
      "source": [
        "2. Implicit typecasting (automatic) → Python converts automatically."
      ],
      "metadata": {
        "id": "5OQpnqTdwe8N"
      }
    },
    {
      "cell_type": "code",
      "source": [
        "a=2\n",
        "b=2.5\n",
        "c=a + b\n",
        "print(c)\n",
        "type(c)\n",
        "#automatic typecast"
      ],
      "metadata": {
        "colab": {
          "base_uri": "https://localhost:8080/"
        },
        "id": "QR_LfVUBqvml",
        "outputId": "4d935ff0-a8b4-4cd8-ea40-6254fbda70f3"
      },
      "execution_count": null,
      "outputs": [
        {
          "output_type": "stream",
          "name": "stdout",
          "text": [
            "4.5\n"
          ]
        },
        {
          "output_type": "execute_result",
          "data": {
            "text/plain": [
              "float"
            ]
          },
          "metadata": {},
          "execution_count": 5
        }
      ]
    },
    {
      "cell_type": "markdown",
      "source": [
        "⚡👉 In short:\n",
        "\n",
        "* input() → string\n",
        "\n",
        "* int() → converts to integer\n",
        "\n",
        "* (+) → adds numbers\n",
        "\n",
        "* Use print() to display."
      ],
      "metadata": {
        "id": "tuTM1B5LvIGb"
      }
    },
    {
      "cell_type": "code",
      "source": [
        "a = int(input('enter a number')) #always in the string need to typecast\n",
        "b = int(input('enter a number')) #always in the string need to typecast\n",
        "c= a+b\n",
        "c"
      ],
      "metadata": {
        "id": "JJS5tcs-rNq5"
      },
      "execution_count": null,
      "outputs": []
    },
    {
      "cell_type": "markdown",
      "source": [
        "⚡👉 In short:\n",
        "\n",
        "* input() → take user values\n",
        "\n",
        "* float() → allows decimals\n",
        "\n",
        "* Formula used: SI = (P × R × T) / 100\n",
        "\n",
        "* print() → displays the simple interest."
      ],
      "metadata": {
        "id": "0jjbvnHiuuBA"
      }
    },
    {
      "cell_type": "code",
      "source": [
        "p = float(input('enter a amount'))\n",
        "r = float(input('enter a rate'))\n",
        "t = float(input('enter a time'))\n",
        "si = (p*r*t)/100\n",
        "print(si)"
      ],
      "metadata": {
        "id": "eyyHuczsrQfZ"
      },
      "execution_count": null,
      "outputs": []
    },
    {
      "cell_type": "markdown",
      "source": [
        "| Operator | Name                | Example (`a=10, b=3`) | Result |\n",
        "| -------- | ------------------- | --------------------- | ------ |\n",
        "| `+`      | Addition            | `a + b`               | 13     |\n",
        "| `-`      | Subtraction         | `a - b`               | 7      |\n",
        "| `*`      | Multiplication      | `a * b`               | 30     |\n",
        "| `/`      | Division (float)    | `a / b`               | 3.333… |\n",
        "| `//`     | Floor Division      | `a // b`              | 3      |\n",
        "| `%`      | Modulus (remainder) | `a % b`               | 1      |\n",
        "| `**`     | Exponent (power)    | `a ** b`              | 1000   |\n"
      ],
      "metadata": {
        "id": "m7NfpiaiuWNX"
      }
    },
    {
      "cell_type": "code",
      "source": [
        "a = 5\n",
        "b = 10\n",
        "print(a)\n",
        "print(\"abes\")\n",
        "print(a>b)\n",
        "print(a+b)\n",
        "print(5/2)\n",
        "print(ab)\n",
        "print('ab')\n",
        "print(type(a))"
      ],
      "metadata": {
        "id": "SszZDDaArSal"
      },
      "execution_count": null,
      "outputs": []
    },
    {
      "cell_type": "markdown",
      "source": [
        "👉 In short:\n",
        "\n",
        " *  (+) add\n",
        "\n",
        " *  (-) subtract\n",
        "\n",
        "*  (*) multiply\n",
        "\n",
        "*  (/) divide\n",
        "\n",
        "*  (**) power\n",
        "\n",
        " * (%) modulo division\n",
        "\n",
        " * (//) quotient (no decimal)"
      ],
      "metadata": {
        "id": "Iz5J6J4FtFSQ"
      }
    },
    {
      "cell_type": "code",
      "source": [
        "a = 2\n",
        "b = 3\n",
        "print(a+b)\n",
        "print(a-b)\n",
        "print(a*b)\n",
        "print(a/b)\n",
        "print(a**b)\n",
        "print(a%b)\n",
        "print(a//b)"
      ],
      "metadata": {
        "id": "DR5paskgrVYQ"
      },
      "execution_count": null,
      "outputs": []
    },
    {
      "cell_type": "markdown",
      "source": [
        "🔹 What dir() does:\n",
        "\n",
        " *  dir(object) → shows all the attributes and methods available for that object.\n",
        "\n",
        " * Here, x = 5 (an integer).\n",
        "\n",
        "  So, dir(x) lists all the built-in functions you can use with an int."
      ],
      "metadata": {
        "id": "DCDZSGbZsljk"
      }
    },
    {
      "cell_type": "code",
      "source": [
        "x=5\n",
        "dir(x)\n",
        "#directories"
      ],
      "metadata": {
        "id": "nT79iz4HrYoW"
      },
      "execution_count": null,
      "outputs": []
    },
    {
      "cell_type": "markdown",
      "source": [
        "👉 type() just tells you what kind of data a variable stores."
      ],
      "metadata": {
        "id": "YgUrGqcLsTDV"
      }
    },
    {
      "cell_type": "code",
      "source": [
        "x=2\n",
        "y=3.4\n",
        "type(x)\n",
        "type(y)"
      ],
      "metadata": {
        "id": "g-bHRbSIrcCU"
      },
      "execution_count": null,
      "outputs": []
    },
    {
      "cell_type": "markdown",
      "source": [
        "👉Working:\n",
        "\n",
        "input() → takes value as string.\n",
        "\n",
        "a + b → joins (concatenates) strings, not adds numbers.\n",
        "Example: 10 and 20 → \"10\" + \"20\" = \"1020\".\n",
        "\n",
        "print() → shows output on screen."
      ],
      "metadata": {
        "id": "cV3283mZr2B5"
      }
    },
    {
      "cell_type": "code",
      "source": [
        "# Basic I/O operation\n",
        "#input for input the string\n",
        "#print for print the value\n",
        "a = input(\"Enter first no\")\n",
        "b= input(\"ENter second number\")\n",
        "c=a+b\n",
        "print(\"The sum is\",c)\n"
      ],
      "metadata": {
        "id": "3FKFRk3ireP1"
      },
      "execution_count": null,
      "outputs": []
    },
    {
      "cell_type": "markdown",
      "source": [
        "👉 Explanation of Operators:\n",
        "\n",
        "* (>)  greater than\n",
        "\n",
        "* (<) less than\n",
        "\n",
        "* (>=) greater or equal\n",
        "\n",
        "* (<=) smaller or equal\n",
        "\n",
        "* (==) equal (checks value)\n",
        "\n",
        "* (!=) not equal"
      ],
      "metadata": {
        "id": "fqzUjFFXxiQO"
      }
    },
    {
      "cell_type": "code",
      "source": [
        "# ARITHMETIC OPERATORS\n",
        "# > : greater than\n",
        "# < : less than\n",
        "# >= : greater than or equal to\n",
        "# <= : smaller than or equal\n",
        "# != : Not equal to\n",
        "# == : Equal to\n",
        "a= 20\n",
        "b= 5\n",
        "x= 1\n",
        "y= 2\n",
        "print(a>b)\n",
        "print(a<b)\n",
        "print(a>=b)\n",
        "print(a<=b)\n",
        "print(x==y)\n",
        "print(x!=y)"
      ],
      "metadata": {
        "id": "mrp_KQ3cx6Jy"
      },
      "execution_count": null,
      "outputs": []
    },
    {
      "cell_type": "markdown",
      "source": [
        "👉 Swapping  \n",
        "     Swapping means exchanging the values of two variables.\n",
        "    Example:\n",
        "  If a = 5 and b = 10, after swapping → a = 10 and b = 5.\n",
        "\n",
        "🔹 Swapping with Third Variable\n",
        "\n",
        "   A temporary variable (temp) is used to hold one value during the swap.\n",
        "\n",
        "   This prevents losing the original value of a variable.\n",
        "\n",
        " Steps:\n",
        "\n",
        "* Store value of a in temp.\n",
        "\n",
        "* Assign value of b to a.\n",
        "\n",
        "* Assign value of temp (old a) to b."
      ],
      "metadata": {
        "id": "u_5NzSrxySIG"
      }
    },
    {
      "cell_type": "code",
      "source": [
        "#swapping with third variable\n",
        "a= int(input(\"Enter First no\"))\n",
        "b= int(input(\"Enter Second no\"))\n",
        "temp = a\n",
        "a= b\n",
        "b= temp\n",
        "print(\"After swapping \",a,b)\n",
        "\n"
      ],
      "metadata": {
        "id": "OGkG15utx_Oq"
      },
      "execution_count": null,
      "outputs": []
    },
    {
      "cell_type": "markdown",
      "source": [
        "🔹 Explanation of Operators:\n",
        "\n",
        "* += → add and assign\n",
        "\n",
        "* -= → subtract and assign\n",
        "\n",
        "* *= → multiply and assign\n",
        "\n",
        "* /= → divide and assign (result becomes float)\n",
        "\n",
        "* %= → modulus and assign (remainder)"
      ],
      "metadata": {
        "id": "rj2fAN2KzbgZ"
      }
    },
    {
      "cell_type": "code",
      "source": [
        "# Assignment Operators\n",
        "a = 2\n",
        "b = 4\n",
        "a+=2\n",
        "a-=2\n",
        "a*=2\n",
        "a/=2\n",
        "a%=2\n"
      ],
      "metadata": {
        "id": "ITukgWg9y6Vt"
      },
      "execution_count": null,
      "outputs": []
    },
    {
      "cell_type": "markdown",
      "source": [
        "👉 ASSIGNMENT OPERATORS\n",
        "| Expression   | `and` | `or`  | `not` |\n",
        "| ------------ | ----- | ----- | ----- |\n",
        "| True, True   | True  | True  | False |\n",
        "| True, False  | False | True  |       |\n",
        "| False, True  | False | True  |       |\n",
        "| False, False | False | False | True  |\n"
      ],
      "metadata": {
        "id": "GLoXhV-Qz2u3"
      }
    },
    {
      "cell_type": "code",
      "source": [
        "#logical operator\n",
        "a = 10\n",
        "b= 20\n",
        "c= (a>5) and (b==20)\n",
        "d = not(a>10) and (b>20)\n",
        "print(d)\n",
        "print(c)"
      ],
      "metadata": {
        "id": "FVeFgsucznQD"
      },
      "execution_count": null,
      "outputs": []
    },
    {
      "cell_type": "markdown",
      "source": [
        "👉 In short (theory):\n",
        "\n",
        "* & AND → 1 if both 1\n",
        "\n",
        "* | OR → 1 if any 1\n",
        "\n",
        "* ~ NOT → flips bits (gives negative in Python)\n",
        "\n",
        "* ^ XOR → 1 if different\n",
        "\n",
        "* (>>) right shift → divide by 2ⁿ\n",
        "\n",
        "* << left shift → multiply by 2ⁿ"
      ],
      "metadata": {
        "id": "6Vd724ug0IEO"
      }
    },
    {
      "cell_type": "code",
      "source": [
        "# BITWISE OPERATOR\n",
        "a = 23\n",
        "b = 17\n",
        "print(a&b) # Bitwise AND\n",
        "print(a | b) # Bitwise OR\n",
        "print(~a) # Bitwise NOT\n",
        "print(a ^ b) # Bitwise XOR\n",
        "print(a >> 2) # Bitwise right shift\n",
        "print(a << 2) # Bitwise left shift\n",
        "print(64 >> 2)\n",
        "print(~a+1)\n"
      ],
      "metadata": {
        "id": "lNZRUWdlz68q",
        "colab": {
          "base_uri": "https://localhost:8080/"
        },
        "outputId": "ff37101c-de5b-4244-cb01-4f8f89581779"
      },
      "execution_count": null,
      "outputs": [
        {
          "output_type": "stream",
          "name": "stdout",
          "text": [
            "17\n",
            "23\n",
            "-24\n",
            "6\n",
            "5\n",
            "92\n",
            "16\n",
            "-23\n"
          ]
        }
      ]
    },
    {
      "cell_type": "markdown",
      "source": [
        "👉 1. Identity Operators (is, is not)\n",
        "\n",
        "* These check if two variables point to the same object in memory (not just same value).\n",
        "\n",
        "* is → True if both variables refer to the same object.\n",
        "\n",
        "* is not → True if they do not refer to the same object.\n",
        "\n",
        "👉 2. Equality Operators (==, !=)\n",
        "\n",
        "* These check if the values (contents) are same, not memory location.\n",
        "\n",
        "* == → True if contents are same.\n",
        "\n",
        "* != → True if contents are different."
      ],
      "metadata": {
        "id": "vyNMLIY408ne"
      }
    },
    {
      "cell_type": "code",
      "source": [
        "# IDENTITY AND MEMBERSHIP OPERATOR:\n",
        "a = \"college\"\n",
        "b=  \"ABES\"\n",
        "c = [\"College\", \"ABES\"]\n",
        "d = [\"College\", \"ABES\"]\n",
        "e = c\n",
        "print(c is e)\n",
        "# Return True because e is the same object of as c\n",
        "print(c is not e)\n",
        "# Return False because e is the same object as c\n",
        "print(c is not d)\n",
        "# Return True because c is the same object as d, even if they have same content\n",
        "\n",
        "print(c != d)\n",
        "# to demonstate the difference between \" is not \" and\n",
        "# \"!=\" : this comarison return False because c is equal to d"
      ],
      "metadata": {
        "id": "moy_qiB50XMr"
      },
      "execution_count": null,
      "outputs": []
    },
    {
      "cell_type": "markdown",
      "source": [
        "👉MEMBERSHIP OPERATOR\n",
        "\n",
        "* in → Returns True if the value exists.\n",
        "\n",
        "* not in → Returns True if the value does not exist."
      ],
      "metadata": {
        "id": "c9jdDe-HF-O8"
      }
    },
    {
      "cell_type": "code",
      "source": [
        "# Membership operators\n",
        "x = [10, 20, 30, 40]\n",
        "\n",
        "print(20 in x)      # True (20 is in the list)\n",
        "print(50 not in x)  # True (50 is not in the list)\n",
        "\n",
        "s = \"hello\"\n",
        "print('h' in s)     # True\n",
        "print('z' in s)     # False\n"
      ],
      "metadata": {
        "id": "Xhu_3q3_F8fT"
      },
      "execution_count": null,
      "outputs": []
    },
    {
      "cell_type": "markdown",
      "source": [
        "👉Numeric expression and Assignment operation\n",
        " 1. Direct Assignment:\n",
        "college = \"ABES\"\n",
        "\n",
        " 2. List assignment:\n",
        "college, code = [\"ABES\", \"032\"]\n",
        "\n",
        "\n",
        " 3. SEquence Assignment :\n",
        "a,b,c,d = \"ABES\"\n",
        "\n",
        " 4. Extending sequence :\n",
        "a,*b =\"ABES\"\n"
      ],
      "metadata": {
        "id": "vrMnATxI9j7m"
      }
    },
    {
      "cell_type": "code",
      "source": [
        "a=b=c=d= \"ABES\"\n",
        "print(a)\n",
        "print(b)\n",
        "print(c)\n",
        "print(d)\n"
      ],
      "metadata": {
        "id": "ElukMEV28oMA"
      },
      "execution_count": null,
      "outputs": []
    },
    {
      "cell_type": "code",
      "source": [
        "a,b,c,d = \"ABES\"\n",
        "print(a)\n",
        "print(b)\n",
        "print(c)\n",
        "print(d)"
      ],
      "metadata": {
        "id": "I0g7Lob889Nn"
      },
      "execution_count": null,
      "outputs": []
    },
    {
      "cell_type": "markdown",
      "source": [
        "🔹 1. Operator Precedence\n",
        "\n",
        "* Definition: Precedence determines which operator is evaluated first when an expression has more than one operator.\n",
        "\n",
        "* Higher precedence → evaluated earlier.\n",
        "\n",
        "   int y = 100 / 10 * 2;  \n",
        "\n",
        "\n",
        "🔹 2. Operator Associativity\n",
        "\n",
        "* Definition: Associativity decides the order of evaluation when operators of the same precedence appear together.\n",
        "\n",
        "* Commonly, operators are left-to-right associative, but some (like assignment =, unary operators, conditional ?:) are right-to-left.\n",
        "\n",
        "   int a = b = c = 5;\n",
        "\n",
        "\n",
        "| Operator                            | Precedence (High → Low) | Associativity |               |               |\n",
        "| ----------------------------------- | ----------------------- | ------------- | ------------- | ------------- |\n",
        "| `()` `[]` `.` `->`                  | Highest                 | Left-to-right |               |               |\n",
        "| `++` `--` (postfix)                 |                         | Left-to-right |               |               |\n",
        "| `++` `--` `+` `-` (unary), `!`, `~` |                         | Right-to-left |               |               |\n",
        "| `*` `/` `%`                         |                         | Left-to-right |               |               |\n",
        "| `+` `-`                             |                         | Left-to-right |               |               |\n",
        "| `<<` `>>`                           |                         | Left-to-right |               |               |\n",
        "| `<` `<=` `>` `>=`                   |                         | Left-to-right |               |               |\n",
        "| `==` `!=`                           |                         | Left-to-right |               |               |\n",
        "| `&`                                 |                         | Left-to-right |               |               |\n",
        "| `^`                                 |                         | Left-to-right |               |               |\n",
        "| \\`                                  | \\`                      |               | Left-to-right |               |\n",
        "| `&&`                                |                         | Left-to-right |               |               |\n",
        "| \\`                                  |                         | \\`            |               | Left-to-right |\n",
        "| `?:` (ternary)                      |                         | Right-to-left |               |               |\n",
        "| `=` `+=` `-=` etc.                  |                         | Right-to-left |               |               |\n",
        "| `,` (comma)                         | Lowest                  | Left-to-right |               |               |\n"
      ],
      "metadata": {
        "id": "sbs36EXFAh5r"
      }
    },
    {
      "cell_type": "markdown",
      "source": [
        "👉  Python 2 vs Python 3\n"
      ],
      "metadata": {
        "id": "U8Bnt3BJDfF5"
      }
    },
    {
      "cell_type": "code",
      "source": [
        "#Examples of an if-else block\n",
        "if True:\n",
        "  print(\"This is inside the if block\")\n",
        "else:\n",
        "  print(\"This is inside the else block\")"
      ],
      "metadata": {
        "id": "jJHRA5PdEegy"
      },
      "execution_count": null,
      "outputs": []
    },
    {
      "cell_type": "code",
      "source": [
        "#Exmaples of a function block\n",
        "def my_function():\n",
        "  print(\"This is inside the function\")\n",
        "  for i in range(5):\n",
        "  print(i)"
      ],
      "metadata": {
        "id": "X4LM3Rw3JaUB"
      },
      "execution_count": null,
      "outputs": []
    },
    {
      "cell_type": "markdown",
      "source": [
        "#👉UNIT 2"
      ],
      "metadata": {
        "id": "_rF1z1aVIUY4"
      }
    },
    {
      "cell_type": "markdown",
      "source": [
        "👉 IF ELSE"
      ],
      "metadata": {
        "id": "SRdBW9jVluF9"
      }
    },
    {
      "cell_type": "code",
      "source": [
        "marks = int(input(\"Enter your marks\"))\n",
        "if marks > 95:\n",
        "  print(\"Excellent\")\n",
        "\n",
        "else:\n",
        "  print(\"Good\")"
      ],
      "metadata": {
        "colab": {
          "base_uri": "https://localhost:8080/"
        },
        "id": "o27h-Iv5ISjL",
        "outputId": "5aaad309-be65-42b8-9df8-b1a49096e17a"
      },
      "execution_count": null,
      "outputs": [
        {
          "output_type": "stream",
          "name": "stdout",
          "text": [
            "Enter your marks97\n",
            "Excellent\n"
          ]
        }
      ]
    },
    {
      "cell_type": "code",
      "source": [
        "a= int(input(\"Enter a number:\"))\n",
        "if a%2==0:\n",
        "  print(a,\"Number is even\")\n",
        "else:\n",
        "  print(a,\"Number is odd\")"
      ],
      "metadata": {
        "colab": {
          "base_uri": "https://localhost:8080/"
        },
        "id": "McqF7ULTJlKx",
        "outputId": "dfa44af0-3ed8-43c0-cc64-858aa64f3d57"
      },
      "execution_count": null,
      "outputs": [
        {
          "output_type": "stream",
          "name": "stdout",
          "text": [
            "Enter a number5\n",
            "5 Number is odd\n"
          ]
        }
      ]
    },
    {
      "cell_type": "code",
      "source": [
        "a= int(input(\"Enter a number:\"))\n",
        "b= int(input(\"Enter a number:\"))\n",
        "if a>b:\n",
        "  print(a,\"is greatest\")\n",
        "else:\n",
        "  print(b,\"is greatest\")"
      ],
      "metadata": {
        "colab": {
          "base_uri": "https://localhost:8080/"
        },
        "id": "HsNrkOnRKPzT",
        "outputId": "9b9de178-4cf7-41be-8ae3-59e72e057819"
      },
      "execution_count": null,
      "outputs": [
        {
          "output_type": "stream",
          "name": "stdout",
          "text": [
            "Enter a number:35\n",
            "Enter a number:75\n",
            "75 is greatest\n"
          ]
        }
      ]
    },
    {
      "cell_type": "code",
      "source": [
        "sell = float(input(\"Enter selling price:\"))\n",
        "cost = float(input(\"Enter cost price:\"))\n",
        "if sell>cost:\n",
        "  print(\"Profit\")\n",
        "else:\n",
        "  print(\"Loss\")"
      ],
      "metadata": {
        "colab": {
          "base_uri": "https://localhost:8080/"
        },
        "id": "sN3yfENxK8Qu",
        "outputId": "b217840a-b2e9-4aef-c15b-9b450f1e7b2e"
      },
      "execution_count": null,
      "outputs": [
        {
          "output_type": "stream",
          "name": "stdout",
          "text": [
            "Enter selling price:55\n",
            "Enter cost price:46\n",
            "Profit\n"
          ]
        }
      ]
    },
    {
      "cell_type": "code",
      "source": [
        "marks = float(input(\"Enter a marks\"))\n",
        "if marks>90:\n",
        "  print(\"Honours\")\n",
        "else:\n",
        "  print(\"NOt honours\")\n"
      ],
      "metadata": {
        "colab": {
          "base_uri": "https://localhost:8080/"
        },
        "id": "9caZ_ZlZLgS-",
        "outputId": "ea99de43-b532-411b-f70c-debea9f08806"
      },
      "execution_count": null,
      "outputs": [
        {
          "output_type": "stream",
          "name": "stdout",
          "text": [
            "Enter a marks85\n",
            "NOt honours\n"
          ]
        }
      ]
    },
    {
      "cell_type": "markdown",
      "source": [
        "👉 NESTED IF ELSE\n"
      ],
      "metadata": {
        "id": "Zv-utKBQlqh7"
      }
    },
    {
      "cell_type": "code",
      "source": [
        "a=int(input(\"Enter the first value\"))\n",
        "b=int(input(\"Enter the second value\"))\n",
        "c=int(input(\"Enter the third value\"))\n",
        "if a>b:\n",
        "  if a>c:\n",
        "    print(a,\"is greatest\")\n",
        "  else:\n",
        "    print(c,\"is greatest\")\n",
        "\n",
        "else:\n",
        "  if b>c:\n",
        "    print(b,\"is greatest\")\n",
        "  else:\n",
        "    print(c,\"is greatest\")\n"
      ],
      "metadata": {
        "colab": {
          "base_uri": "https://localhost:8080/"
        },
        "id": "aP3WTvvJl6uG",
        "outputId": "da42b89f-a971-4112-83e6-8b42e68dfd30"
      },
      "execution_count": null,
      "outputs": [
        {
          "output_type": "stream",
          "name": "stdout",
          "text": [
            "Enter the first value3\n",
            "Enter the second value6\n",
            "Enter the third value12\n",
            "12 is greatest\n"
          ]
        }
      ]
    },
    {
      "cell_type": "markdown",
      "source": [
        "👉 IF ELIF STATEMENT (ELSE IF LADDER, IF ELSE IF CHAIN)\n",
        "\n",
        "\n",
        " GENERAL STATEMENT\n",
        "  "
      ],
      "metadata": {
        "id": "areETPfhoRsW"
      }
    },
    {
      "cell_type": "markdown",
      "source": [
        "Write an program for grades of marks of an student"
      ],
      "metadata": {
        "id": "O9m81DX1qIVX"
      }
    },
    {
      "cell_type": "code",
      "source": [
        "a=int(input(\"Enter the percentage of marks\"))\n",
        "if a>95:\n",
        " print(\"Excellent\")\n",
        "elif a<95 and a>80 :\n",
        " print(\"Good\")\n",
        "elif a<80 and a>60:\n",
        "  print(\"Average\")\n",
        "else:\n",
        "  print(\"Below Average\")"
      ],
      "metadata": {
        "colab": {
          "base_uri": "https://localhost:8080/"
        },
        "id": "i5cFIslWmj0D",
        "outputId": "25510734-e69c-4741-b32a-b90dc71f0f63"
      },
      "execution_count": null,
      "outputs": [
        {
          "output_type": "stream",
          "name": "stdout",
          "text": [
            "Enter the percentage of marks46\n",
            "Below average\n"
          ]
        }
      ]
    },
    {
      "cell_type": "code",
      "source": [
        "a=float(input(\"Enter the no. of unit consumed:\"))\n",
        "if a<100:\n",
        "  rental=250\n",
        "  charge=7.15\n",
        "  print(\"Bill is\",rental+charge*a)\n",
        "elif a>101 and a<200:\n",
        "  rental = 320\n",
        "  charge=8.50\n",
        "  print(\"Bill is\",rental+charge*a)\n",
        "elif a>201 and a<300:\n",
        "  rental = 410\n",
        "  charge=9.15\n",
        "  print(\"Bill is\",rental+charge*a)\n",
        "else:\n",
        "  rental= 440\n",
        "  charge = 9.50\n",
        "  print(\"Bill is\",rental + charge*a)\n"
      ],
      "metadata": {
        "colab": {
          "base_uri": "https://localhost:8080/"
        },
        "id": "skNrAPfBqHLd",
        "outputId": "f7014598-ca75-4ccf-beef-2afbdecb7347"
      },
      "execution_count": null,
      "outputs": [
        {
          "output_type": "stream",
          "name": "stdout",
          "text": [
            "Enter the no. of unit consumed:30\n",
            "Bill is 464.5\n"
          ]
        }
      ]
    },
    {
      "cell_type": "markdown",
      "source": [
        "👉 SIMPLE CALCULATOR\n"
      ],
      "metadata": {
        "id": "e5XPdk9MtETY"
      }
    },
    {
      "cell_type": "code",
      "source": [
        "a=float(input(\"Enter first no:\"))\n",
        "b=float(input(\"Enter first no:\"))\n",
        "print(\"Enter your choice:\")\n",
        "print(\"Enter 1 for addition:\")\n",
        "print(\"Enter 2 for subtraction:\")\n",
        "print(\"Enter 3 for multiplication:\")\n",
        "print(\"Enter 4 for division:\")\n",
        "choice=int(input(\"Enter your choice:\"))\n",
        "if choice==1:\n",
        "  print(\"Addition:\",a+b)\n",
        "elif choice==2:\n",
        "  print(\"subtraction:\",a-b)\n",
        "elif choice==3:\n",
        "  print(\"Multiplication:\",a*b)\n",
        "else:\n",
        "  print(\"Division:\",a/b)"
      ],
      "metadata": {
        "colab": {
          "base_uri": "https://localhost:8080/"
        },
        "id": "L_o8WObZs5_x",
        "outputId": "fc5f4625-ab1c-4513-9f56-4226265f2dda"
      },
      "execution_count": null,
      "outputs": [
        {
          "output_type": "stream",
          "name": "stdout",
          "text": [
            "Enter first no:45\n",
            "Enter first no:5\n",
            "Enter your choice:\n",
            "Enter 1 for addition:\n",
            "Enter 2 for subtraction:\n",
            "Enter 3 for multiplication:\n",
            "Enter 4 for division:\n",
            "Enter your choice:4\n",
            "Division: 9.0\n"
          ]
        }
      ]
    },
    {
      "cell_type": "code",
      "source": [
        "a=1\n",
        "while(a<5):\n",
        " print(a)\n",
        " a=a+1\n"
      ],
      "metadata": {
        "id": "Z6_GmVC5ugH8",
        "colab": {
          "base_uri": "https://localhost:8080/"
        },
        "outputId": "3af3fd35-8368-4cc7-eaab-9931e68d9e45"
      },
      "execution_count": null,
      "outputs": [
        {
          "output_type": "stream",
          "name": "stdout",
          "text": [
            "1\n",
            "2\n",
            "3\n",
            "4\n"
          ]
        }
      ]
    },
    {
      "cell_type": "markdown",
      "source": [
        " 👉 WAP in python to find the sum of digits"
      ],
      "metadata": {
        "id": "rlaSSlzXkq0z"
      }
    },
    {
      "cell_type": "code",
      "source": [
        "n=int(input(\"Enter a number:\"))\n",
        "sum1=0\n",
        "while(n>0):\n",
        "  a=n%10\n",
        "  sum1=sum1+a\n",
        "  n=n//10\n",
        "print(\"Sum is:\",sum1)"
      ],
      "metadata": {
        "colab": {
          "base_uri": "https://localhost:8080/"
        },
        "id": "gJT12RItkoi9",
        "outputId": "3a0bff46-5ca8-462f-99a7-37d0ef79a77e"
      },
      "execution_count": null,
      "outputs": [
        {
          "output_type": "stream",
          "name": "stdout",
          "text": [
            "Enter a number:5765\n",
            "Sum is: 23\n"
          ]
        }
      ]
    },
    {
      "cell_type": "markdown",
      "source": [
        "👉 WAP in python to find the Factorial of a given number"
      ],
      "metadata": {
        "id": "RTnEVo25nQVH"
      }
    },
    {
      "cell_type": "code",
      "source": [
        "n=int(input(\"Enter a number:\"))\n",
        "a=1\n",
        "while(n>0):\n",
        "  a=a*n\n",
        "  n=n-1\n",
        "print(\"Factorial is\",a)"
      ],
      "metadata": {
        "colab": {
          "base_uri": "https://localhost:8080/"
        },
        "id": "Kpc-nc8lnFwo",
        "outputId": "538633fa-29d8-4493-e55e-abedb02fbd74"
      },
      "execution_count": null,
      "outputs": [
        {
          "output_type": "stream",
          "name": "stdout",
          "text": [
            "Enter a number:5\n",
            "Factorial is 120\n"
          ]
        }
      ]
    },
    {
      "cell_type": "markdown",
      "source": [
        "WAP in python to find to reverse of 3 digut no\n"
      ],
      "metadata": {
        "id": "KaNGYoqAosOj"
      }
    },
    {
      "cell_type": "code",
      "source": [
        "n=int(input(\"Enter a number:\"))\n",
        "rev=0\n",
        "while(n>0):\n",
        "  a=n%10\n",
        "  rev=rev*10+a\n",
        "  n=n//10\n",
        "print(\"Reverse is\",rev)"
      ],
      "metadata": {
        "colab": {
          "base_uri": "https://localhost:8080/"
        },
        "id": "Mq9JYDrbo3TT",
        "outputId": "532904cd-a510-4ad4-82e7-15ce2c3abae7"
      },
      "execution_count": null,
      "outputs": [
        {
          "output_type": "stream",
          "name": "stdout",
          "text": [
            "Enter a number:234\n",
            "Reverse is 432\n"
          ]
        }
      ]
    },
    {
      "cell_type": "code",
      "source": [
        "i=1\n",
        "while(i<=100):\n",
        "  if i%2==0:\n",
        "    print(i)\n",
        "  i+=1\n"
      ],
      "metadata": {
        "colab": {
          "base_uri": "https://localhost:8080/"
        },
        "id": "bwc_MZ4TqVuQ",
        "outputId": "57b376ee-3ca9-4ca7-816f-d70b797fd4e5"
      },
      "execution_count": null,
      "outputs": [
        {
          "output_type": "stream",
          "name": "stdout",
          "text": [
            "2\n",
            "4\n",
            "6\n",
            "8\n",
            "10\n",
            "12\n",
            "14\n",
            "16\n",
            "18\n",
            "20\n",
            "22\n",
            "24\n",
            "26\n",
            "28\n",
            "30\n",
            "32\n",
            "34\n",
            "36\n",
            "38\n",
            "40\n",
            "42\n",
            "44\n",
            "46\n",
            "48\n",
            "50\n",
            "52\n",
            "54\n",
            "56\n",
            "58\n",
            "60\n",
            "62\n",
            "64\n",
            "66\n",
            "68\n",
            "70\n",
            "72\n",
            "74\n",
            "76\n",
            "78\n",
            "80\n",
            "82\n",
            "84\n",
            "86\n",
            "88\n",
            "90\n",
            "92\n",
            "94\n",
            "96\n",
            "98\n",
            "100\n"
          ]
        }
      ]
    },
    {
      "cell_type": "code",
      "source": [
        "i=1\n",
        "while(i<=100):\n",
        "  if i%2!=0:\n",
        "    print(i)\n",
        "  i+=1\n"
      ],
      "metadata": {
        "colab": {
          "base_uri": "https://localhost:8080/"
        },
        "id": "cBzPsOLOruAw",
        "outputId": "b81dda56-83cb-4c3c-c2dd-1ba021bcffda"
      },
      "execution_count": null,
      "outputs": [
        {
          "output_type": "stream",
          "name": "stdout",
          "text": [
            "1\n",
            "3\n",
            "5\n",
            "7\n",
            "9\n",
            "11\n",
            "13\n",
            "15\n",
            "17\n",
            "19\n",
            "21\n",
            "23\n",
            "25\n",
            "27\n",
            "29\n",
            "31\n",
            "33\n",
            "35\n",
            "37\n",
            "39\n",
            "41\n",
            "43\n",
            "45\n",
            "47\n",
            "49\n",
            "51\n",
            "53\n",
            "55\n",
            "57\n",
            "59\n",
            "61\n",
            "63\n",
            "65\n",
            "67\n",
            "69\n",
            "71\n",
            "73\n",
            "75\n",
            "77\n",
            "79\n",
            "81\n",
            "83\n",
            "85\n",
            "87\n",
            "89\n",
            "91\n",
            "93\n",
            "95\n",
            "97\n",
            "99\n"
          ]
        }
      ]
    },
    {
      "cell_type": "code",
      "source": [
        "n=int(input(\"Enter a number:\"))\n",
        "while(n>1):\n",
        "  if()"
      ],
      "metadata": {
        "id": "2HuqD-X-sgJ1"
      },
      "execution_count": null,
      "outputs": []
    },
    {
      "cell_type": "code",
      "metadata": {
        "colab": {
          "base_uri": "https://localhost:8080/"
        },
        "id": "6473cf4f",
        "outputId": "58c17551-ce9e-4d9a-c3e2-4e37a7c16d85"
      },
      "source": [
        "num = int(input(\"Enter a number: \"))\n",
        "\n",
        "if num > 1:\n",
        "    is_prime = True\n",
        "    i = 2\n",
        "    while i < num:\n",
        "        if (num % i) == 0:\n",
        "            is_prime = False\n",
        "            break\n",
        "        i += 1\n",
        "    if is_prime:\n",
        "        print(num, \"is a prime number\")\n",
        "    else:\n",
        "        print(num, \"is not a prime number\")\n",
        "else:\n",
        "    print(num, \"is not a prime number\")"
      ],
      "execution_count": null,
      "outputs": [
        {
          "output_type": "stream",
          "name": "stdout",
          "text": [
            "Enter a number: 425\n",
            "425 is not a prime number\n"
          ]
        }
      ]
    },
    {
      "cell_type": "code",
      "source": [
        "for x in 1,2,"
      ],
      "metadata": {
        "id": "luoLcT52QyVc"
      },
      "execution_count": null,
      "outputs": []
    },
    {
      "cell_type": "code",
      "source": [
        "for nums = range(6)\n",
        "for print(nums)\n",
        "for range(1,6)\n",
        "for range(0,6,2)\n",
        "\n"
      ],
      "metadata": {
        "id": "_Qo6jvTtQ69x"
      },
      "execution_count": null,
      "outputs": []
    },
    {
      "cell_type": "code",
      "source": [
        "a=10\n",
        "b=a\n",
        "print(\"Value of a and b before increment\")\n",
        "print()"
      ],
      "metadata": {
        "id": "uTz1BsM4a-_U"
      },
      "execution_count": null,
      "outputs": []
    },
    {
      "cell_type": "code",
      "source": [
        "a=int(input(\"Enter a number\"))\n",
        "d=int(a)\n",
        "b=int(a+a)\n",
        "c=int(a+a+a)\n",
        "print(d+b+c)"
      ],
      "metadata": {
        "id": "Fr5X7pYRb2rx"
      },
      "execution_count": null,
      "outputs": []
    },
    {
      "cell_type": "code",
      "source": [
        "a=int(input(\"Enter radius\"))\n",
        "print(3.14*a*a)\n"
      ],
      "metadata": {
        "colab": {
          "base_uri": "https://localhost:8080/"
        },
        "id": "zKH8CoS_cjn0",
        "outputId": "1be00559-4022-497f-9251-9392c7f0c243"
      },
      "execution_count": null,
      "outputs": [
        {
          "output_type": "stream",
          "name": "stdout",
          "text": [
            "Enter radius2\n",
            "12.56\n"
          ]
        }
      ]
    },
    {
      "cell_type": "code",
      "source": [
        "principal=input(\"Enter principal\")\n",
        "rateOfInterest=input(\"enter rate of interest\")\n",
        "time=int(input(\"enter time\"))\n"
      ],
      "metadata": {
        "id": "pYYgGqipc5Vp"
      },
      "execution_count": null,
      "outputs": []
    },
    {
      "cell_type": "code",
      "source": [
        "n = input(\"Enter the number: \")\n",
        "print(int(n)+int(n+n)+int(n+n+n))\n"
      ],
      "metadata": {
        "colab": {
          "base_uri": "https://localhost:8080/",
          "height": 304
        },
        "id": "LTmS8_xfeOH-",
        "outputId": "6ff66348-3108-49ae-cea2-cc39f0723cf0"
      },
      "execution_count": null,
      "outputs": [
        {
          "output_type": "error",
          "ename": "KeyboardInterrupt",
          "evalue": "Interrupted by user",
          "traceback": [
            "\u001b[0;31m---------------------------------------------------------------------------\u001b[0m",
            "\u001b[0;31mKeyboardInterrupt\u001b[0m                         Traceback (most recent call last)",
            "\u001b[0;32m/tmp/ipython-input-333404694.py\u001b[0m in \u001b[0;36m<cell line: 0>\u001b[0;34m()\u001b[0m\n\u001b[0;32m----> 1\u001b[0;31m \u001b[0mn\u001b[0m \u001b[0;34m=\u001b[0m \u001b[0minput\u001b[0m\u001b[0;34m(\u001b[0m\u001b[0;34m\"Enter the number: \"\u001b[0m\u001b[0;34m)\u001b[0m\u001b[0;34m\u001b[0m\u001b[0;34m\u001b[0m\u001b[0m\n\u001b[0m\u001b[1;32m      2\u001b[0m \u001b[0mprint\u001b[0m\u001b[0;34m(\u001b[0m\u001b[0mint\u001b[0m\u001b[0;34m(\u001b[0m\u001b[0mn\u001b[0m\u001b[0;34m)\u001b[0m\u001b[0;34m+\u001b[0m\u001b[0mint\u001b[0m\u001b[0;34m(\u001b[0m\u001b[0mn\u001b[0m\u001b[0;34m+\u001b[0m\u001b[0mn\u001b[0m\u001b[0;34m)\u001b[0m\u001b[0;34m+\u001b[0m\u001b[0mint\u001b[0m\u001b[0;34m(\u001b[0m\u001b[0mn\u001b[0m\u001b[0;34m+\u001b[0m\u001b[0mn\u001b[0m\u001b[0;34m+\u001b[0m\u001b[0mn\u001b[0m\u001b[0;34m)\u001b[0m\u001b[0;34m)\u001b[0m\u001b[0;34m\u001b[0m\u001b[0;34m\u001b[0m\u001b[0m\n",
            "\u001b[0;32m/usr/local/lib/python3.12/dist-packages/ipykernel/kernelbase.py\u001b[0m in \u001b[0;36mraw_input\u001b[0;34m(self, prompt)\u001b[0m\n\u001b[1;32m   1175\u001b[0m                 \u001b[0;34m\"raw_input was called, but this frontend does not support input requests.\"\u001b[0m\u001b[0;34m\u001b[0m\u001b[0;34m\u001b[0m\u001b[0m\n\u001b[1;32m   1176\u001b[0m             )\n\u001b[0;32m-> 1177\u001b[0;31m         return self._input_request(\n\u001b[0m\u001b[1;32m   1178\u001b[0m             \u001b[0mstr\u001b[0m\u001b[0;34m(\u001b[0m\u001b[0mprompt\u001b[0m\u001b[0;34m)\u001b[0m\u001b[0;34m,\u001b[0m\u001b[0;34m\u001b[0m\u001b[0;34m\u001b[0m\u001b[0m\n\u001b[1;32m   1179\u001b[0m             \u001b[0mself\u001b[0m\u001b[0;34m.\u001b[0m\u001b[0m_parent_ident\u001b[0m\u001b[0;34m[\u001b[0m\u001b[0;34m\"shell\"\u001b[0m\u001b[0;34m]\u001b[0m\u001b[0;34m,\u001b[0m\u001b[0;34m\u001b[0m\u001b[0;34m\u001b[0m\u001b[0m\n",
            "\u001b[0;32m/usr/local/lib/python3.12/dist-packages/ipykernel/kernelbase.py\u001b[0m in \u001b[0;36m_input_request\u001b[0;34m(self, prompt, ident, parent, password)\u001b[0m\n\u001b[1;32m   1217\u001b[0m             \u001b[0;32mexcept\u001b[0m \u001b[0mKeyboardInterrupt\u001b[0m\u001b[0;34m:\u001b[0m\u001b[0;34m\u001b[0m\u001b[0;34m\u001b[0m\u001b[0m\n\u001b[1;32m   1218\u001b[0m                 \u001b[0;31m# re-raise KeyboardInterrupt, to truncate traceback\u001b[0m\u001b[0;34m\u001b[0m\u001b[0;34m\u001b[0m\u001b[0m\n\u001b[0;32m-> 1219\u001b[0;31m                 \u001b[0;32mraise\u001b[0m \u001b[0mKeyboardInterrupt\u001b[0m\u001b[0;34m(\u001b[0m\u001b[0;34m\"Interrupted by user\"\u001b[0m\u001b[0;34m)\u001b[0m \u001b[0;32mfrom\u001b[0m \u001b[0;32mNone\u001b[0m\u001b[0;34m\u001b[0m\u001b[0;34m\u001b[0m\u001b[0m\n\u001b[0m\u001b[1;32m   1220\u001b[0m             \u001b[0;32mexcept\u001b[0m \u001b[0mException\u001b[0m\u001b[0;34m:\u001b[0m\u001b[0;34m\u001b[0m\u001b[0;34m\u001b[0m\u001b[0m\n\u001b[1;32m   1221\u001b[0m                 \u001b[0mself\u001b[0m\u001b[0;34m.\u001b[0m\u001b[0mlog\u001b[0m\u001b[0;34m.\u001b[0m\u001b[0mwarning\u001b[0m\u001b[0;34m(\u001b[0m\u001b[0;34m\"Invalid Message:\"\u001b[0m\u001b[0;34m,\u001b[0m \u001b[0mexc_info\u001b[0m\u001b[0;34m=\u001b[0m\u001b[0;32mTrue\u001b[0m\u001b[0;34m)\u001b[0m\u001b[0;34m\u001b[0m\u001b[0;34m\u001b[0m\u001b[0m\n",
            "\u001b[0;31mKeyboardInterrupt\u001b[0m: Interrupted by user"
          ]
        }
      ]
    },
    {
      "cell_type": "code",
      "source": [
        "n = input(\"Enter an integer: \")\n",
        "result = int(n) + int(n*2) + int(n*3)\n",
        "print(\"Result:\", result)\n"
      ],
      "metadata": {
        "colab": {
          "base_uri": "https://localhost:8080/"
        },
        "id": "Xpj1QG7Newxp",
        "outputId": "02ef7c45-b89c-4d8f-ca32-4ccd8987143b"
      },
      "execution_count": null,
      "outputs": [
        {
          "output_type": "stream",
          "name": "stdout",
          "text": [
            "Enter an integer: 2\n",
            "Result: 246\n"
          ]
        }
      ]
    },
    {
      "cell_type": "code",
      "source": [
        "a=int(input(\"Enter number\"))\n",
        "if(a>0):\n",
        "  print(\"positive\")\n",
        "\n",
        "elif(a<0):\n",
        "  print(\"negative\")\n",
        "\n",
        "else:\n",
        "  print(\"Zero\")"
      ],
      "metadata": {
        "colab": {
          "base_uri": "https://localhost:8080/"
        },
        "id": "KHCnpv90e2xV",
        "outputId": "dc9ff71d-c7a1-4bde-c2b2-90196c3aa16d"
      },
      "execution_count": null,
      "outputs": [
        {
          "output_type": "stream",
          "name": "stdout",
          "text": [
            "Enter number5\n",
            "positive\n"
          ]
        }
      ]
    },
    {
      "cell_type": "code",
      "source": [
        "for x in 1,2,'hello','7','world',5.16:\n",
        "  print(x)"
      ],
      "metadata": {
        "colab": {
          "base_uri": "https://localhost:8080/"
        },
        "id": "rSldVGxye-X4",
        "outputId": "53c7c557-1428-4d21-f5c8-9060cfef5eef"
      },
      "execution_count": null,
      "outputs": [
        {
          "output_type": "stream",
          "name": "stdout",
          "text": [
            "1\n",
            "2\n",
            "hello\n",
            "7\n",
            "world\n",
            "5.16\n"
          ]
        }
      ]
    },
    {
      "cell_type": "code",
      "source": [
        "for y in \"python\":\n",
        "  print(y)"
      ],
      "metadata": {
        "colab": {
          "base_uri": "https://localhost:8080/"
        },
        "id": "cgxzyb4NhJUd",
        "outputId": "d2965e24-cf73-4b7f-bd7f-cae5c912bfe0"
      },
      "execution_count": null,
      "outputs": [
        {
          "output_type": "stream",
          "name": "stdout",
          "text": [
            "p\n",
            "y\n",
            "t\n",
            "h\n",
            "o\n",
            "n\n"
          ]
        }
      ]
    },
    {
      "cell_type": "code",
      "source": [
        "#for nums in range(6): # except\n",
        "  #print(nums)\n",
        "# for nums in range(1,6):# expect upper limit\n",
        "#    print(nums)\n",
        "for nums in range(0,6,2):#increment of 2\n",
        "   print(nums)\n",
        "# for nums in range(6,1,-2):#decrement of 2\n",
        "#   print(nums)\n"
      ],
      "metadata": {
        "colab": {
          "base_uri": "https://localhost:8080/"
        },
        "id": "UhKiE9Vjhmgj",
        "outputId": "a24b6654-f0f2-4798-995e-09a298964dd4"
      },
      "execution_count": null,
      "outputs": [
        {
          "output_type": "stream",
          "name": "stdout",
          "text": [
            "0\n",
            "2\n",
            "4\n"
          ]
        }
      ]
    },
    {
      "cell_type": "code",
      "source": [
        "x=1\n",
        "while x<=7:\n",
        "  if x==5:\n",
        "    x=x+1\n",
        "    continue\n",
        "print(x)\n",
        "x=x+1\n",
        "print(\"Out of loop\")"
      ],
      "metadata": {
        "id": "eiMqP35nkt9I"
      },
      "execution_count": null,
      "outputs": []
    },
    {
      "cell_type": "code",
      "source": [
        "x=1\n",
        "while x<=7:\n",
        "  if x==5:\n",
        "    x=x+1\n",
        "    break\n",
        "print(x)\n",
        "x=x+1\n",
        "print(\"Out of loop\")"
      ],
      "metadata": {
        "id": "gGHY0-YKlJNS"
      },
      "execution_count": null,
      "outputs": []
    },
    {
      "cell_type": "code",
      "source": [
        "a=int(input(\"Enter number\"))\n",
        "if(a<=0):\n"
      ],
      "metadata": {
        "id": "dUZZ_Nf_lrHH"
      },
      "execution_count": null,
      "outputs": []
    },
    {
      "cell_type": "code",
      "source": [
        "for a in range(51):\n",
        "  if(a%3==0 and a%5==0):\n",
        "    print(\"FizzBuzz\")\n",
        "  elif(a%3==0):\n",
        "    print(\"Fizz\")\n",
        "  elif(a%5==0):\n",
        "    print(\"Buzz\")\n",
        "  else:\n",
        "    print(a)"
      ],
      "metadata": {
        "id": "e5aYjzv3nVh8"
      },
      "execution_count": null,
      "outputs": []
    },
    {
      "cell_type": "markdown",
      "source": [
        "STRING"
      ],
      "metadata": {
        "id": "TsXciqc3pvIe"
      }
    },
    {
      "cell_type": "code",
      "source": [
        "m=\"GATTACA\"\n",
        "print(m[1:3])\n",
        "print(m[:3])\n",
        "print(m[4:])\n",
        "print(m[3:5])\n",
        "print(m[:])\n",
        "print(m[0:5:2])\n",
        "print(m[0:5:2])\n",
        "print(m[-1])\n",
        "print(m[-2:])\n",
        "print(m[-1:])\n",
        "print(m[-5:])\n",
        "\n",
        "print(m[-2:-6:2])"
      ],
      "metadata": {
        "id": "0JtnWlbWuDE6",
        "colab": {
          "base_uri": "https://localhost:8080/"
        },
        "outputId": "2c6e35db-4bbe-470d-ef0f-fdfbf2f4fb41"
      },
      "execution_count": null,
      "outputs": [
        {
          "output_type": "stream",
          "name": "stdout",
          "text": [
            "AT\n",
            "GAT\n",
            "ACA\n",
            "TA\n",
            "GATTACA\n",
            "GTA\n",
            "GTA\n",
            "A\n",
            "CA\n",
            "A\n",
            "TTACA\n",
            "\n"
          ]
        }
      ]
    },
    {
      "cell_type": "code",
      "source": [
        "m=\"GATTACA\"\n",
        "print(len(m))\n",
        "print(\"GAT\"+\"TACA\")\n",
        "print(\"A\"*10)\n",
        "print(\"GAT\" in \"GATTACA\")\n",
        "print(\"AGT\" in \"GATTACA\")"
      ],
      "metadata": {
        "colab": {
          "base_uri": "https://localhost:8080/"
        },
        "id": "7AaEIv2wrBkt",
        "outputId": "53ff7a6b-68dd-42f9-a2e7-cf8e9254b34a"
      },
      "execution_count": null,
      "outputs": [
        {
          "output_type": "stream",
          "name": "stdout",
          "text": [
            "7\n",
            "GATTACA\n",
            "AAAAAAAAAA\n",
            "True\n",
            "False\n"
          ]
        }
      ]
    },
    {
      "cell_type": "code",
      "source": [
        "import string\n",
        "print(string.ascii_letters)\n",
        "print(string.ascii_lowercase)\n",
        "print(string.ascii_uppercase)\n",
        "print(string.digits)\n",
        "print(string.hexdigits)\n",
        "print(string.octdigits)\n",
        "print(string.punctuation)\n",
        "print(string.whitespace)\n"
      ],
      "metadata": {
        "colab": {
          "base_uri": "https://localhost:8080/"
        },
        "id": "8yaL4uFLsueO",
        "outputId": "13e2f91f-09ef-49d7-cc50-c9390fc5e1ef"
      },
      "execution_count": null,
      "outputs": [
        {
          "output_type": "stream",
          "name": "stdout",
          "text": [
            "abcdefghijklmnopqrstuvwxyzABCDEFGHIJKLMNOPQRSTUVWXYZ\n",
            "abcdefghijklmnopqrstuvwxyz\n",
            "ABCDEFGHIJKLMNOPQRSTUVWXYZ\n",
            "0123456789\n",
            "0123456789abcdefABCDEF\n",
            "01234567\n",
            "!\"#$%&'()*+,-./:;<=>?@[\\]^_`{|}~\n",
            " \t\n",
            "\r\u000b\f\n"
          ]
        }
      ]
    },
    {
      "cell_type": "code",
      "source": [
        "import string\n",
        "if\" \" in string.whitespace:\n",
        "  print(True)\n",
        "for i in string.whitespace:\n",
        "  print(repr(i))\n",
        "for i in string.punctuation:\n",
        "  print(i)"
      ],
      "metadata": {
        "colab": {
          "base_uri": "https://localhost:8080/"
        },
        "id": "do7xBlJnuXsi",
        "outputId": "6345f61f-374e-4aa9-c4f9-e4ce0c72b0cb"
      },
      "execution_count": null,
      "outputs": [
        {
          "output_type": "stream",
          "name": "stdout",
          "text": [
            "True\n",
            "' '\n",
            "'\\t'\n",
            "'\\n'\n",
            "'\\r'\n",
            "'\\x0b'\n",
            "'\\x0c'\n",
            "!\n",
            "\"\n",
            "#\n",
            "$\n",
            "%\n",
            "&\n",
            "'\n",
            "(\n",
            ")\n",
            "*\n",
            "+\n",
            ",\n",
            "-\n",
            ".\n",
            "/\n",
            ":\n",
            ";\n",
            "<\n",
            "=\n",
            ">\n",
            "?\n",
            "@\n",
            "[\n",
            "\\\n",
            "]\n",
            "^\n",
            "_\n",
            "`\n",
            "{\n",
            "|\n",
            "}\n",
            "~\n"
          ]
        }
      ]
    },
    {
      "cell_type": "code",
      "source": [
        "st=\"HEllo world\"\n",
        "st= st.capitalize()\n",
        "print(st)\n",
        "st=st.title()\n",
        "print(st)\n",
        "st=st.lower()\n",
        "print(st)\n",
        "st=st.upper()\n",
        "print(st)\n",
        "if st.isupper():\n",
        "  print(True)\n",
        "st=\"hello\"\n",
        "if st.islower():\n",
        "  print(True)\n",
        "st =\"Hello World\"\n",
        "x=st.istitle()\n",
        "print(x)\n",
        "x=st.isdigit()\n",
        "print(x)\n"
      ],
      "metadata": {
        "colab": {
          "base_uri": "https://localhost:8080/"
        },
        "id": "KNS5PAiUvwUC",
        "outputId": "a58c3bfd-f2bc-4a2b-da7c-bc0fa1ee860e"
      },
      "execution_count": null,
      "outputs": [
        {
          "output_type": "stream",
          "name": "stdout",
          "text": [
            "Hello world\n",
            "Hello World\n",
            "hello world\n",
            "HELLO WORLD\n",
            "True\n",
            "True\n",
            "True\n",
            "False\n"
          ]
        }
      ]
    },
    {
      "cell_type": "code",
      "source": [
        "import string\n",
        "s=\"hello worllld\"\n",
        "print(\"string is:\",s)\n",
        "x=s.find('h')\n",
        "print(x)\n",
        "x=s.rfind('o')\n",
        "print(x)\n",
        "x=s.index('w')\n",
        "print(x)\n",
        "start=6\n",
        "end=10\n",
        "x=s.count(\"ll\",1,11)\n",
        "print(x)\n",
        "x=s.count('l')\n",
        "print(x)"
      ],
      "metadata": {
        "colab": {
          "base_uri": "https://localhost:8080/"
        },
        "id": "P5BjUYFDx9Vh",
        "outputId": "f8b532cf-619c-4a25-a5fa-1569042d2246"
      },
      "execution_count": null,
      "outputs": [
        {
          "output_type": "stream",
          "name": "stdout",
          "text": [
            "string is: hello worllld\n",
            "0\n",
            "7\n",
            "6\n",
            "2\n",
            "5\n"
          ]
        }
      ]
    },
    {
      "cell_type": "code",
      "source": [
        "import string\n",
        "s=\"hello world! 123\"\n",
        "if()"
      ],
      "metadata": {
        "id": "irZAfKiiy_qd"
      },
      "execution_count": null,
      "outputs": []
    },
    {
      "cell_type": "code",
      "source": [],
      "metadata": {
        "id": "JXoh7xpH0zMK"
      },
      "execution_count": null,
      "outputs": []
    },
    {
      "cell_type": "code",
      "metadata": {
        "id": "9f0890bb"
      },
      "source": [
        "import string\n",
        "input_string = input(\"Enter a string: \")\n",
        "\n",
        "letter_count = 0\n",
        "digit_count = 0\n",
        "\n",
        "for char in input_string:\n",
        "  if char in string.ascii_letters:\n",
        "    letter_count += 1\n",
        "  elif char in string.digits:\n",
        "    digit_count += 1\n",
        "\n",
        "print(\"Number of letters:\", letter_count)\n",
        "print(\"Number of digits:\", digit_count)"
      ],
      "execution_count": null,
      "outputs": []
    },
    {
      "cell_type": "code",
      "source": [
        "import string\n",
        "s=\"topeka,kanas city,wichita,olathe\"\n",
        "cities=s.split(\",\")\n",
        "print(cities)\n",
        "for city in cities:\n",
        "  print(city)"
      ],
      "metadata": {
        "id": "aDPuDEt91TGg",
        "colab": {
          "base_uri": "https://localhost:8080/"
        },
        "outputId": "e09f937e-46af-458a-b1db-bc8c7cfc4fcd"
      },
      "execution_count": null,
      "outputs": [
        {
          "output_type": "stream",
          "name": "stdout",
          "text": [
            "['topeka', 'kanas city', 'wichita', 'olathe']\n",
            "topeka\n",
            "kanas city\n",
            "wichita\n",
            "olathe\n"
          ]
        }
      ]
    },
    {
      "cell_type": "code",
      "source": [
        "import string\n",
        "s=\"one two three\"\n",
        "c=s.split( )\n",
        "print(c)\n",
        "for d in s:\n",
        "  print(d)"
      ],
      "metadata": {
        "colab": {
          "base_uri": "https://localhost:8080/"
        },
        "id": "OqgE5vq6BR5F",
        "outputId": "0b289ea1-0c6c-45e3-8c04-41b2414d66c3"
      },
      "execution_count": null,
      "outputs": [
        {
          "output_type": "stream",
          "name": "stdout",
          "text": [
            "['one', 'two', 'three']\n",
            "o\n",
            "n\n",
            "e\n",
            " \n",
            "t\n",
            "w\n",
            "o\n",
            " \n",
            "t\n",
            "h\n",
            "r\n",
            "e\n",
            "e\n"
          ]
        }
      ]
    },
    {
      "cell_type": "code",
      "source": [
        "import string\n",
        "s=\"Buffalo;Rochester;Yonkers;Syracause;Albany;Schenectady\"\n",
        "print(s)\n",
        "cities=s.rsplit(\";\",3)\n",
        "print(cities)\n",
        "for city in cities:\n",
        "  print(city)"
      ],
      "metadata": {
        "colab": {
          "base_uri": "https://localhost:8080/"
        },
        "id": "T3HAgyHwCKZ0",
        "outputId": "03fe8297-0459-49a2-de66-62ad98a6c8eb"
      },
      "execution_count": null,
      "outputs": [
        {
          "output_type": "stream",
          "name": "stdout",
          "text": [
            "Buffalo;Rochester;Yonkers;Syracause;Albany;Schenectady\n",
            "['Buffalo;Rochester;Yonkers', 'Syracause', 'Albany', 'Schenectady']\n",
            "Buffalo;Rochester;Yonkers\n",
            "Syracause\n",
            "Albany\n",
            "Schenectady\n"
          ]
        }
      ]
    },
    {
      "cell_type": "code",
      "source": [
        "import string\n",
        "s=\"\"\"This string\n",
        "has many\n",
        "lines\"\"\"\n",
        "print(s)\n",
        "lines=s.splitlines()\n",
        "for line in lines:\n",
        "  print(\"[\"+line+\"]\")"
      ],
      "metadata": {
        "colab": {
          "base_uri": "https://localhost:8080/"
        },
        "id": "kz-zk9IPESCp",
        "outputId": "6737d427-911f-4528-f210-975093cf1ae1"
      },
      "execution_count": null,
      "outputs": [
        {
          "output_type": "stream",
          "name": "stdout",
          "text": [
            "This string\n",
            "has many\n",
            "lines\n",
            "[This string]\n",
            "[has many]\n",
            "[lines]\n"
          ]
        }
      ]
    },
    {
      "cell_type": "code",
      "source": [
        "list=[\"a\",\"b\",\"c\"]\n",
        "result=\"\".join(list)\n",
        "result1=\",\".join(list)\n",
        "print(result)\n",
        "print(result1)"
      ],
      "metadata": {
        "colab": {
          "base_uri": "https://localhost:8080/"
        },
        "id": "-kGKA5a7Fgj2",
        "outputId": "0c44c406-2ddd-4931-f652-e59836e229c7"
      },
      "execution_count": null,
      "outputs": [
        {
          "output_type": "stream",
          "name": "stdout",
          "text": [
            "abc\n",
            "a,b,c\n"
          ]
        }
      ]
    },
    {
      "cell_type": "code",
      "source": [
        "# Has two leading spaces\n",
        "#and a trailing one.\n",
        "value = \" a line \"\n",
        "# Remove left spaces.\n",
        "value1 = value.lstrip()\n",
        "print(\"[\" + value1 + \"]\")\n",
        "# Remove right spaces.\n",
        "value2 = value.rstrip()\n",
        "print(\"[\" + value2 + \"]\")\n",
        "# Remove left and right spaces.\n",
        "value3 = value.strip()\n",
        "print(\"[\" + value3 + \"]\")"
      ],
      "metadata": {
        "colab": {
          "base_uri": "https://localhost:8080/"
        },
        "id": "damOismvGxCj",
        "outputId": "4ae0efa9-bd0c-4869-d759-18c5bdca2a5f"
      },
      "execution_count": null,
      "outputs": [
        {
          "output_type": "stream",
          "name": "stdout",
          "text": [
            "[a line ]\n",
            "[ a line]\n",
            "[a line]\n"
          ]
        }
      ]
    },
    {
      "cell_type": "code",
      "source": [
        "# Has numbers on left and right, and some syntax.\n",
        "value = \"50342=Data,231\"\n",
        "# Strip all digits.\n",
        "# ... Also remove equals sign and comma.\n",
        "result = value.strip(\"0123456789=,\")\n",
        "print(result)"
      ],
      "metadata": {
        "colab": {
          "base_uri": "https://localhost:8080/"
        },
        "id": "ZvOMGgUxJRuq",
        "outputId": "2e96201b-03a0-48ce-e493-4b0ca7510996"
      },
      "execution_count": null,
      "outputs": [
        {
          "output_type": "stream",
          "name": "stdout",
          "text": [
            "Data\n"
          ]
        }
      ]
    },
    {
      "cell_type": "code",
      "source": [
        "s = \"Paris\"\n",
        "# Justify to left, add periods.\n",
        "print(s.ljust(10, \".\"))\n",
        "# Justify to right.\n",
        "print(s.rjust(10))\n",
        "#justify center\n",
        "print(\"hello\".center(10,\".\"))"
      ],
      "metadata": {
        "colab": {
          "base_uri": "https://localhost:8080/"
        },
        "id": "y_GBi4RkJStH",
        "outputId": "33568a46-af2f-4c3f-bcf2-3821f383567c"
      },
      "execution_count": null,
      "outputs": [
        {
          "output_type": "stream",
          "name": "stdout",
          "text": [
            "Paris.....\n",
            "     Paris\n",
            "..hello...\n"
          ]
        }
      ]
    },
    {
      "cell_type": "code",
      "source": [
        "import string\n",
        "s=\"Learn NodeJS from scratch and build modern web applications. Perfect for beginners and intermediate developers.\"\n",
        "len_uppercase = 0\n",
        "\n",
        "for c in s:\n",
        "  if c >= 'A' and c <= 'Z':\n",
        "    len_uppercase += 1\n",
        "print(len_uppercase)"
      ],
      "metadata": {
        "colab": {
          "base_uri": "https://localhost:8080/"
        },
        "id": "c-3D0pJeJ5p6",
        "outputId": "cece36f1-f7c4-4b55-84fc-bb738bb68b36"
      },
      "execution_count": null,
      "outputs": [
        {
          "output_type": "stream",
          "name": "stdout",
          "text": [
            "5\n"
          ]
        }
      ]
    },
    {
      "cell_type": "code",
      "metadata": {
        "colab": {
          "base_uri": "https://localhost:8080/"
        },
        "id": "3bb199e6",
        "outputId": "f4b5d2d3-8bc3-4314-d20f-051aa706b05b"
      },
      "source": [
        "\n",
        "s = \"AAABBBBAA\"\n",
        "compressed_string = \"\"\n",
        "current_char = None\n",
        "count = 0\n",
        "\n",
        "\n",
        "for char in s:\n",
        "  if char == current_char:\n",
        "    count += 1\n",
        "  else:\n",
        "    if current_char is not None:\n",
        "      compressed_string += current_char + str(count)\n",
        "    current_char = char\n",
        "    count = 1\n",
        "if current_char is not None:\n",
        "  compressed_string += current_char + str(count)\n",
        "print(\"Original string:\", s)\n",
        "print(\"Compressed string:\", compressed_string)"
      ],
      "execution_count": null,
      "outputs": [
        {
          "output_type": "stream",
          "name": "stdout",
          "text": [
            "Original string: AAABBBBAA\n",
            "Compressed string: A3B4A2\n"
          ]
        }
      ]
    },
    {
      "cell_type": "code",
      "source": [
        "s = input(\"Enter a string: \")\n",
        "\n",
        "# check by reversing string\n",
        "if s == s[::-1]:\n",
        "    print(\"Palindrome\")\n",
        "else:\n",
        "    print(\"Not Palindrome\")\n"
      ],
      "metadata": {
        "id": "7qXUxIl2PwMC"
      },
      "execution_count": null,
      "outputs": []
    },
    {
      "cell_type": "code",
      "source": [
        "import string\n",
        "punc=\"''!()-'[]{};:'\\<,\"\">./?@#$%^&*_~''‘\"\n",
        "s=\"Ak/,gd!@$^())><,\"\n",
        "result=\"\"\n",
        "for a in s:\n",
        "  if a not in punc:\n",
        "    result+=a\n",
        "print(result)"
      ],
      "metadata": {
        "colab": {
          "base_uri": "https://localhost:8080/"
        },
        "id": "7GgePspfQ3OG",
        "outputId": "aa461cbe-1a3d-41bd-d5b7-b4de5066451b"
      },
      "execution_count": null,
      "outputs": [
        {
          "output_type": "stream",
          "name": "stdout",
          "text": [
            "Akgd\n"
          ]
        },
        {
          "output_type": "stream",
          "name": "stderr",
          "text": [
            "<>:2: SyntaxWarning: invalid escape sequence '\\<'\n",
            "<>:2: SyntaxWarning: invalid escape sequence '\\<'\n",
            "/tmp/ipython-input-4286897350.py:2: SyntaxWarning: invalid escape sequence '\\<'\n",
            "  punc=\"''!()-'[]{};:'\\<,\"\">./?@#$%^&*_~''‘\"\n"
          ]
        }
      ]
    },
    {
      "cell_type": "code",
      "source": [
        "a=[1,2,3]\n",
        "b=[4,5,6]\n",
        "c=a+b\n",
        "print(c)\n",
        "\n"
      ],
      "metadata": {
        "id": "JhpTfDQRSt-B",
        "colab": {
          "base_uri": "https://localhost:8080/"
        },
        "outputId": "d1fa3341-1644-46d6-fcbc-b58d0c1fd7f5"
      },
      "execution_count": null,
      "outputs": [
        {
          "output_type": "stream",
          "name": "stdout",
          "text": [
            "[1, 2, 3, 4, 5, 6]\n"
          ]
        }
      ]
    },
    {
      "cell_type": "code",
      "source": [
        "a=['a','e','i','o','u']\n",
        "print(a[2:4])\n",
        "print(a[2:])\n",
        "print(a[:3])"
      ],
      "metadata": {
        "id": "84Q_NO-C8aoZ",
        "colab": {
          "base_uri": "https://localhost:8080/"
        },
        "outputId": "a9655789-5077-45d8-cf53-db86b45c0cec"
      },
      "execution_count": null,
      "outputs": [
        {
          "output_type": "stream",
          "name": "stdout",
          "text": [
            "['i', 'o']\n",
            "['i', 'o', 'u']\n",
            "['a', 'e', 'i']\n"
          ]
        }
      ]
    },
    {
      "cell_type": "code",
      "source": [
        "names=['adan','carol','henry','marget','phill']\n",
        "del names[3]\n",
        "print(names)\n",
        "names[3:4]=[]\n",
        "print(names)\n",
        "del names[1:4]\n",
        "print(names)"
      ],
      "metadata": {
        "colab": {
          "base_uri": "https://localhost:8080/"
        },
        "id": "3EDrFwY3_Cq6",
        "outputId": "6823896a-039f-494b-c873-cdd5772a1381"
      },
      "execution_count": null,
      "outputs": [
        {
          "output_type": "stream",
          "name": "stdout",
          "text": [
            "['adan', 'phill']\n"
          ]
        }
      ]
    },
    {
      "cell_type": "code",
      "source": [
        "a=[1,2,3]\n",
        "b=a\n",
        "print(id(a),id(b))"
      ],
      "metadata": {
        "colab": {
          "base_uri": "https://localhost:8080/"
        },
        "id": "2mIifIzE_-Ly",
        "outputId": "9928f9a3-2773-4d48-802d-d4f3ce98c985"
      },
      "execution_count": null,
      "outputs": [
        {
          "output_type": "stream",
          "name": "stdout",
          "text": [
            "138939765856832 138939765856832\n"
          ]
        }
      ]
    },
    {
      "cell_type": "code",
      "source": [
        "a=[1,2,3]\n",
        "b=a[:]\n",
        "print(id(a),id(b))"
      ],
      "metadata": {
        "colab": {
          "base_uri": "https://localhost:8080/"
        },
        "id": "EPD42oN1_vK4",
        "outputId": "9c4dc831-576e-4173-a733-35c63653d7ed"
      },
      "execution_count": null,
      "outputs": [
        {
          "output_type": "stream",
          "name": "stdout",
          "text": [
            "138939764780864 138939767043968\n"
          ]
        }
      ]
    },
    {
      "cell_type": "code",
      "source": [
        "# write a python program to print the following integers with \"*\" on the right of specified width\n",
        "# Write a python program to strip a set of character from a string\n",
        "# rite a python program to count repeated character in a string"
      ],
      "metadata": {
        "id": "BQy_AAk-CMrh"
      },
      "execution_count": null,
      "outputs": []
    },
    {
      "cell_type": "code",
      "source": [
        "number = 123\n",
        "width = 10\n",
        "print(str(number).ljust(width, '*'))\n",
        "\n",
        "number = 45\n",
        "width = 8\n",
        "print(str(number).ljust(width, '*'))"
      ],
      "metadata": {
        "colab": {
          "base_uri": "https://localhost:8080/"
        },
        "id": "fkNzacPuDFZQ",
        "outputId": "06a8c9cd-a50b-4925-b3be-5d08f1fa6852"
      },
      "execution_count": null,
      "outputs": [
        {
          "output_type": "stream",
          "name": "stdout",
          "text": [
            "123*******\n",
            "45******\n"
          ]
        }
      ]
    },
    {
      "cell_type": "code",
      "source": [
        "# Write a python program to strip a set of character from a string\n",
        "s = \"---Hello World---\"\n",
        "# Stripping leading and trailing '-' characters\n",
        "stripped_string = s.strip('-')\n",
        "print(f\"Original string: {s}\")\n",
        "print(f\"Stripped string: {stripped_string}\")\n",
        "\n",
        "s = \"abcHello Worldcba\"\n",
        "# Stripping leading and trailing 'a', 'b', 'c' characters\n",
        "stripped_string = s.strip('abc')\n",
        "print(f\"Original string: {s}\")\n",
        "print(f\"Stripped string: {stripped_string}\")"
      ],
      "metadata": {
        "colab": {
          "base_uri": "https://localhost:8080/"
        },
        "id": "Via_GPH2DQ7M",
        "outputId": "20f0af6c-b370-46d3-ebb0-70db77f8dab5"
      },
      "execution_count": null,
      "outputs": [
        {
          "output_type": "stream",
          "name": "stdout",
          "text": [
            "Original string: ---Hello World---\n",
            "Stripped string: Hello World\n",
            "Original string: abcHello Worldcba\n",
            "Stripped string: Hello World\n"
          ]
        }
      ]
    },
    {
      "cell_type": "code",
      "source": [
        "# Write a python program to count repeated character in a string\n",
        "from collections import Counter\n",
        "\n",
        "s = \"programming is fun\"\n",
        "char_counts = Counter(s)\n",
        "\n",
        "print(\"Repeated characters and their counts:\")\n",
        "for char, count in char_counts.items():\n",
        "  if count > 1:\n",
        "    print(f\"'{char}': {count}\")"
      ],
      "metadata": {
        "colab": {
          "base_uri": "https://localhost:8080/"
        },
        "id": "YCtoCRKPDklQ",
        "outputId": "ed6ebb04-e6a9-4050-fec3-9f8c8cb4ec1e"
      },
      "execution_count": null,
      "outputs": [
        {
          "output_type": "stream",
          "name": "stdout",
          "text": [
            "Repeated characters and their counts:\n",
            "'r': 2\n",
            "'g': 2\n",
            "'m': 2\n",
            "'i': 2\n",
            "'n': 2\n",
            "' ': 2\n"
          ]
        }
      ]
    },
    {
      "cell_type": "code",
      "source": [],
      "metadata": {
        "id": "IbVmW5L_t2oY"
      },
      "execution_count": null,
      "outputs": []
    },
    {
      "cell_type": "code",
      "source": [
        "l=[]\n",
        "print(l)\n",
        "l.append(9)\n",
        "l.append(\"hello\")\n",
        "l.append(75)\n",
        "l.append(2)\n",
        "print(l)\n",
        "l.insert(0,90)\n",
        "print(l)"
      ],
      "metadata": {
        "colab": {
          "base_uri": "https://localhost:8080/"
        },
        "id": "57bAh6KbuKwV",
        "outputId": "b9c6a11f-5e79-4315-87f7-0921a4003896"
      },
      "execution_count": 2,
      "outputs": [
        {
          "output_type": "stream",
          "name": "stdout",
          "text": [
            "[]\n",
            "[9, 'hello', 75, 2]\n",
            "[90, 9, 'hello', 75, 2]\n"
          ]
        }
      ]
    },
    {
      "cell_type": "code",
      "source": [
        "l=[33,44]\n",
        "print(l)\n",
        "m=[78,23]\n",
        "l.extend(m)\n",
        "print(l)\n",
        "l.extend(\"abc\")\n",
        "print(l)\n",
        "l.extend([32,\"abc\",35.5])\n",
        "print(l)\n",
        "m=[34,56]\n",
        "m.append([23,34])\n",
        "print(m)"
      ],
      "metadata": {
        "colab": {
          "base_uri": "https://localhost:8080/"
        },
        "id": "uyqAZqtwuwLf",
        "outputId": "77bc64e3-4c51-4329-f110-853ad40a306b"
      },
      "execution_count": 4,
      "outputs": [
        {
          "output_type": "stream",
          "name": "stdout",
          "text": [
            "[33, 44]\n",
            "[33, 44, 78, 23]\n",
            "[33, 44, 78, 23, 'a', 'b', 'c']\n",
            "[33, 44, 78, 23, 'a', 'b', 'c', 32, 'abc', 35.5]\n",
            "[34, 56, [23, 34]]\n"
          ]
        }
      ]
    },
    {
      "cell_type": "code",
      "source": [
        "i=[92,56,12,78,1]\n",
        "print(i)\n",
        "print(i.count(92))\n",
        "i.sort()\n",
        "print(i)\n",
        "i.sort(reverse=True)\n",
        "print(i)\n",
        "i.reverse()\n",
        "print(i)"
      ],
      "metadata": {
        "colab": {
          "base_uri": "https://localhost:8080/"
        },
        "id": "uLj7ViPmvkZI",
        "outputId": "468cdb1b-bd6f-4e45-e25b-e953661b0deb"
      },
      "execution_count": 5,
      "outputs": [
        {
          "output_type": "stream",
          "name": "stdout",
          "text": [
            "[92, 56, 12, 78, 1]\n",
            "1\n",
            "[1, 12, 56, 78, 92]\n",
            "[92, 78, 56, 12, 1]\n",
            "[1, 12, 56, 78, 92]\n"
          ]
        }
      ]
    },
    {
      "cell_type": "code",
      "source": [
        "i=[23,\"bill\",67,89,90,\"abc\",\"xyz\"]\n",
        "print(i)\n",
        "i.remove(\"abc\")\n",
        "print(i)\n",
        "del(i[2])\n",
        "print(i)\n",
        "del(i[2:])\n",
        "print(i)\n",
        "i.extend([34,4,67,90])\n",
        "print(i)\n",
        "del(i[2:4])\n",
        "print(i)\n",
        "del(i[:-1])\n",
        "print(i)\n",
        "del(i[:])\n",
        "print(i)\n",
        "del(i)"
      ],
      "metadata": {
        "colab": {
          "base_uri": "https://localhost:8080/"
        },
        "id": "VXh1sI8YwUK2",
        "outputId": "1f2ba01b-b594-4ff6-bb2b-64f257f39f65"
      },
      "execution_count": 8,
      "outputs": [
        {
          "output_type": "stream",
          "name": "stdout",
          "text": [
            "[23, 'bill', 67, 89, 90, 'abc', 'xyz']\n",
            "[23, 'bill', 67, 89, 90, 'xyz']\n",
            "[23, 'bill', 89, 90, 'xyz']\n",
            "[23, 'bill']\n",
            "[23, 'bill', 34, 4, 67, 90]\n",
            "[23, 'bill', 67, 90]\n",
            "[90]\n",
            "[]\n"
          ]
        }
      ]
    },
    {
      "cell_type": "code",
      "source": [
        "i=[\"abc\",30,50]\n",
        "x=i.index(30)\n",
        "print(x)\n",
        "number=[10,20,30,40,50,'Hello']\n",
        "print(number.pop())\n",
        "print(number)\n",
        "x=number.pop()\n",
        "print(x)\n"
      ],
      "metadata": {
        "colab": {
          "base_uri": "https://localhost:8080/"
        },
        "id": "dKwwIQ0GyaUB",
        "outputId": "2cf4c795-2be2-4b3d-c0ab-14668cc4323a"
      },
      "execution_count": 9,
      "outputs": [
        {
          "output_type": "stream",
          "name": "stdout",
          "text": [
            "1\n",
            "Hello\n",
            "[10, 20, 30, 40, 50]\n",
            "50\n"
          ]
        }
      ]
    },
    {
      "cell_type": "code",
      "source": [
        "i=[5,4,3,2,1]\n",
        "p=sorted(i)\n",
        "print(p)\n",
        "print(i)"
      ],
      "metadata": {
        "colab": {
          "base_uri": "https://localhost:8080/"
        },
        "id": "YhT_cNcvzGLu",
        "outputId": "f2e698cd-1982-412f-f66e-37f435c9ffeb"
      },
      "execution_count": 11,
      "outputs": [
        {
          "output_type": "stream",
          "name": "stdout",
          "text": [
            "[1, 2, 3, 4, 5]\n",
            "[5, 4, 3, 2, 1]\n"
          ]
        }
      ]
    },
    {
      "cell_type": "code",
      "source": [],
      "metadata": {
        "id": "P6tNX6rkzV2X"
      },
      "execution_count": null,
      "outputs": []
    }
  ]
}